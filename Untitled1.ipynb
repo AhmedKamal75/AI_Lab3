{
 "cells": [
  {
   "cell_type": "code",
   "execution_count": 1,
   "id": "6553618a",
   "metadata": {},
   "outputs": [],
   "source": [
    "training_data = [\n",
    "    ['Green', 3, 'Apple'],\n",
    "    ['Yellow', 3, 'Apple'],\n",
    "    ['Red', 1, 'Grape'],\n",
    "    ['Red', 1, 'Grape'],\n",
    "    ['Yellow', 3, 'Lemon'],\n",
    "]"
   ]
  },
  {
   "cell_type": "code",
   "execution_count": 2,
   "id": "6cd0dfe3",
   "metadata": {},
   "outputs": [],
   "source": [
    "header = [\"color\", \"diameter\", \"label\"]"
   ]
  },
  {
   "cell_type": "code",
   "execution_count": 3,
   "id": "59e4b74e",
   "metadata": {},
   "outputs": [],
   "source": [
    "def unique_vals(rows, col):\n",
    "    \"\"\"Find the unique values for a column in a dataset.\"\"\"\n",
    "    return set([row[col] for row in rows])"
   ]
  },
  {
   "cell_type": "code",
   "execution_count": 4,
   "id": "d4aa2f56",
   "metadata": {},
   "outputs": [
    {
     "data": {
      "text/plain": [
       "{'Green', 'Red', 'Yellow'}"
      ]
     },
     "execution_count": 4,
     "metadata": {},
     "output_type": "execute_result"
    }
   ],
   "source": [
    "unique_vals(training_data, 0)"
   ]
  },
  {
   "cell_type": "code",
   "execution_count": 5,
   "id": "96ce9a97",
   "metadata": {},
   "outputs": [],
   "source": [
    "def class_counts(rows):\n",
    "    \"\"\"Counts the number of each type of example in a dataset.\"\"\"\n",
    "    counts = {}  # a dictionary of label -> count.\n",
    "    for row in rows:\n",
    "        # in our dataset format, the label is always the last column\n",
    "        label = row[-1]\n",
    "        if label not in counts:\n",
    "            counts[label] = 0\n",
    "        counts[label] += 1\n",
    "    return counts"
   ]
  },
  {
   "cell_type": "code",
   "execution_count": 6,
   "id": "9ba1be59",
   "metadata": {},
   "outputs": [
    {
     "data": {
      "text/plain": [
       "{'Apple': 2, 'Grape': 2, 'Lemon': 1}"
      ]
     },
     "execution_count": 6,
     "metadata": {},
     "output_type": "execute_result"
    }
   ],
   "source": [
    "class_counts(training_data)"
   ]
  },
  {
   "cell_type": "code",
   "execution_count": 7,
   "id": "fcb1fd60",
   "metadata": {},
   "outputs": [],
   "source": [
    "def is_numeric(value):\n",
    "    \"\"\"Test if a value is numeric.\"\"\"\n",
    "    return isinstance(value, int) or isinstance(value, float)"
   ]
  },
  {
   "cell_type": "code",
   "execution_count": 8,
   "id": "2783b548",
   "metadata": {},
   "outputs": [
    {
     "data": {
      "text/plain": [
       "True"
      ]
     },
     "execution_count": 8,
     "metadata": {},
     "output_type": "execute_result"
    }
   ],
   "source": [
    "is_numeric(7)"
   ]
  },
  {
   "cell_type": "code",
   "execution_count": 9,
   "id": "0c07041c",
   "metadata": {},
   "outputs": [],
   "source": [
    "class Question:\n",
    "    \"\"\"A Question is used to partition a dataset.\n",
    "\n",
    "    This class just records a 'column number' (e.g., 0 for Color) and a\n",
    "    'column value' (e.g., Green). The 'match' method is used to compare\n",
    "    the feature value in an example to the feature value stored in the\n",
    "    question. See the demo below.\n",
    "    \"\"\"\n",
    "\n",
    "    def __init__(self, column, value):\n",
    "        self.column = column\n",
    "        self.value = value\n",
    "\n",
    "    def match(self, example):\n",
    "        # Compare the feature value in an example to the\n",
    "        # feature value in this question.\n",
    "        val = example[self.column]\n",
    "        if is_numeric(val):\n",
    "            return val >= self.value\n",
    "        else:\n",
    "            return val == self.value\n",
    "\n",
    "    def __repr__(self):\n",
    "        # This is just a helper method to print\n",
    "        # the question in a readable format.\n",
    "        condition = \"==\"\n",
    "        if is_numeric(self.value):\n",
    "            condition = \">=\"\n",
    "        return \"Is %s %s %s?\" % (\n",
    "            header[self.column], condition, str(self.value))"
   ]
  },
  {
   "cell_type": "code",
   "execution_count": 10,
   "id": "4c74c5f1",
   "metadata": {},
   "outputs": [
    {
     "data": {
      "text/plain": [
       "Is diameter >= 3?"
      ]
     },
     "execution_count": 10,
     "metadata": {},
     "output_type": "execute_result"
    }
   ],
   "source": [
    "Question(1, 3)"
   ]
  },
  {
   "cell_type": "code",
   "execution_count": 11,
   "id": "65a0ce6b",
   "metadata": {},
   "outputs": [
    {
     "data": {
      "text/plain": [
       "Is color == Green?"
      ]
     },
     "execution_count": 11,
     "metadata": {},
     "output_type": "execute_result"
    }
   ],
   "source": [
    "q = Question(0, 'Green')\n",
    "q"
   ]
  },
  {
   "cell_type": "code",
   "execution_count": 12,
   "id": "fb0feba8",
   "metadata": {},
   "outputs": [
    {
     "data": {
      "text/plain": [
       "True"
      ]
     },
     "execution_count": 12,
     "metadata": {},
     "output_type": "execute_result"
    }
   ],
   "source": [
    "example = training_data[0]\n",
    "q.match(example)"
   ]
  },
  {
   "cell_type": "code",
   "execution_count": 13,
   "id": "5d65a9ca",
   "metadata": {},
   "outputs": [],
   "source": [
    "def partition(rows, question):\n",
    "    \"\"\"Partitions a dataset.\n",
    "\n",
    "    For each row in the dataset, check if it matches the question. If\n",
    "    so, add it to 'true rows', otherwise, add it to 'false rows'.\n",
    "    \"\"\"\n",
    "    true_rows, false_rows = [], []\n",
    "    for row in rows:\n",
    "        if question.match(row):\n",
    "            true_rows.append(row)\n",
    "        else:\n",
    "            false_rows.append(row)\n",
    "    return true_rows, false_rows"
   ]
  },
  {
   "cell_type": "code",
   "execution_count": 14,
   "id": "9241a3a7",
   "metadata": {},
   "outputs": [
    {
     "data": {
      "text/plain": [
       "[['Red', 1, 'Grape'], ['Red', 1, 'Grape']]"
      ]
     },
     "execution_count": 14,
     "metadata": {},
     "output_type": "execute_result"
    }
   ],
   "source": [
    "true_rows, false_rows = partition(training_data, Question(0, 'Red'))\n",
    "true_rows"
   ]
  },
  {
   "cell_type": "code",
   "execution_count": 15,
   "id": "10261e39",
   "metadata": {},
   "outputs": [
    {
     "data": {
      "text/plain": [
       "[['Green', 3, 'Apple'], ['Yellow', 3, 'Apple'], ['Yellow', 3, 'Lemon']]"
      ]
     },
     "execution_count": 15,
     "metadata": {},
     "output_type": "execute_result"
    }
   ],
   "source": [
    "false_rows"
   ]
  },
  {
   "cell_type": "code",
   "execution_count": 16,
   "id": "d7b48d57",
   "metadata": {},
   "outputs": [],
   "source": [
    "def gini(rows):\n",
    "    \"\"\"Calculate the Gini Impurity for a list of rows.\n",
    "\n",
    "    There are a few different ways to do this, I thought this one was\n",
    "    the most concise. See:\n",
    "    https://en.wikipedia.org/wiki/Decision_tree_learning#Gini_impurity\n",
    "    \"\"\"\n",
    "    counts = class_counts(rows)\n",
    "    impurity = 1\n",
    "    for lbl in counts:\n",
    "        prob_of_lbl = counts[lbl] / float(len(rows))\n",
    "        impurity -= prob_of_lbl**2\n",
    "    return impurity"
   ]
  },
  {
   "cell_type": "code",
   "execution_count": 17,
   "id": "b2ce07db",
   "metadata": {},
   "outputs": [
    {
     "data": {
      "text/plain": [
       "0.0"
      ]
     },
     "execution_count": 17,
     "metadata": {},
     "output_type": "execute_result"
    }
   ],
   "source": [
    "#######\n",
    "# Demo:\n",
    "# Let's look at some example to understand how Gini Impurity works.\n",
    "#\n",
    "# First, we'll look at a dataset with no mixing.\n",
    "no_mixing = [['Apple'],\n",
    "              ['Apple']]\n",
    "# this will return 0\n",
    "gini(no_mixing)"
   ]
  },
  {
   "cell_type": "code",
   "execution_count": 18,
   "id": "d636801e",
   "metadata": {},
   "outputs": [
    {
     "data": {
      "text/plain": [
       "0.5"
      ]
     },
     "execution_count": 18,
     "metadata": {},
     "output_type": "execute_result"
    }
   ],
   "source": [
    "# Now, we'll look at dataset with a 50:50 apples:oranges ratio\n",
    "some_mixing = [['Apple'],\n",
    "               ['Orange']]\n",
    "# this will return 0.5 - meaning, there's a 50% chance of misclassifying\n",
    "# a random example we draw from the dataset.\n",
    "gini(some_mixing)"
   ]
  },
  {
   "cell_type": "code",
   "execution_count": 19,
   "id": "209d6732",
   "metadata": {},
   "outputs": [
    {
     "data": {
      "text/plain": [
       "0.7999999999999998"
      ]
     },
     "execution_count": 19,
     "metadata": {},
     "output_type": "execute_result"
    }
   ],
   "source": [
    "lots_of_mixing = [['Apple'],\n",
    "                  ['Orange'],\n",
    "                  ['Grape'],\n",
    "                  ['Grapefruit'],\n",
    "                  ['Blueberry']]\n",
    "# This will return 0.8\n",
    "gini(lots_of_mixing)"
   ]
  },
  {
   "cell_type": "code",
   "execution_count": 20,
   "id": "f460ffdd",
   "metadata": {},
   "outputs": [],
   "source": [
    "def info_gain(left, right, current_uncertainty):\n",
    "    \"\"\"Information Gain.\n",
    "\n",
    "    The uncertainty of the starting node, minus the weighted impurity of\n",
    "    two child nodes.\n",
    "    \"\"\"\n",
    "    p = float(len(left)) / (len(left) + len(right))\n",
    "    return current_uncertainty - p * gini(left) - (1 - p) * gini(right)"
   ]
  },
  {
   "cell_type": "code",
   "execution_count": 21,
   "id": "a8a5cc5c",
   "metadata": {},
   "outputs": [
    {
     "data": {
      "text/plain": [
       "0.6399999999999999"
      ]
     },
     "execution_count": 21,
     "metadata": {},
     "output_type": "execute_result"
    }
   ],
   "source": [
    "current_uncertainty = gini(training_data)\n",
    "current_uncertainty"
   ]
  },
  {
   "cell_type": "code",
   "execution_count": 22,
   "id": "e4111403",
   "metadata": {},
   "outputs": [
    {
     "data": {
      "text/plain": [
       "0.1399999999999999"
      ]
     },
     "execution_count": 22,
     "metadata": {},
     "output_type": "execute_result"
    }
   ],
   "source": [
    "true_rows, false_rows = partition(training_data, Question(0, 'Green'))\n",
    "info_gain(true_rows, false_rows, current_uncertainty)"
   ]
  },
  {
   "cell_type": "code",
   "execution_count": 23,
   "id": "3d24d7f6",
   "metadata": {},
   "outputs": [
    {
     "data": {
      "text/plain": [
       "0.37333333333333324"
      ]
     },
     "execution_count": 23,
     "metadata": {},
     "output_type": "execute_result"
    }
   ],
   "source": [
    "true_rows, false_rows = partition(training_data, Question(0,'Red'))\n",
    "info_gain(true_rows, false_rows, current_uncertainty)"
   ]
  },
  {
   "cell_type": "code",
   "execution_count": 24,
   "id": "4cd2d834",
   "metadata": {},
   "outputs": [
    {
     "data": {
      "text/plain": [
       "[['Red', 1, 'Grape'], ['Red', 1, 'Grape']]"
      ]
     },
     "execution_count": 24,
     "metadata": {},
     "output_type": "execute_result"
    }
   ],
   "source": [
    "true_rows, false_rows = partition(training_data, Question(0,'Red'))\n",
    "\n",
    "# Here, the true_rows contain only 'Grapes'.\n",
    "true_rows"
   ]
  },
  {
   "cell_type": "code",
   "execution_count": 25,
   "id": "34d33155",
   "metadata": {},
   "outputs": [
    {
     "data": {
      "text/plain": [
       "[['Green', 3, 'Apple']]"
      ]
     },
     "execution_count": 25,
     "metadata": {},
     "output_type": "execute_result"
    }
   ],
   "source": [
    "true_rows, false_rows = partition(training_data, Question(0,'Green'))\n",
    "\n",
    "# We've isolated one apple in the true rows.\n",
    "true_rows"
   ]
  },
  {
   "cell_type": "code",
   "execution_count": 26,
   "id": "8c43b5f5",
   "metadata": {},
   "outputs": [],
   "source": [
    "def weighted_impurity(true_correct, true_wrong, false_correct, false_wrong):\n",
    "    gini_true_leaf = 1 - (true_correct / (true_wrong + true_correct)) ** 2 - (\n",
    "            true_wrong / (true_wrong + true_correct)) ** 2\n",
    "    print(gini_true_leaf)\n",
    "    gini_false_leaf = 1 - (false_correct / (false_wrong + false_correct)) ** 2 - (\n",
    "            false_wrong / (false_wrong + false_correct)) ** 2\n",
    "    print(gini_false_leaf)\n",
    "    true_weight = (true_correct + true_wrong) / (true_correct + true_wrong + false_correct + false_wrong)\n",
    "    false_weight = (false_correct + false_wrong) / (true_correct + true_wrong + false_correct + false_wrong)\n",
    "\n",
    "    return gini_true_leaf * true_weight + gini_false_leaf * false_weight"
   ]
  },
  {
   "cell_type": "code",
   "execution_count": 27,
   "id": "09a881dd",
   "metadata": {},
   "outputs": [
    {
     "name": "stdout",
     "output_type": "stream",
     "text": [
      "0.3949652777777779\n",
      "0.33622087733871275\n",
      "0.36413900824044665\n"
     ]
    }
   ],
   "source": [
    "print(weighted_impurity(105,39,34,125))"
   ]
  },
  {
   "cell_type": "code",
   "execution_count": 29,
   "id": "29f5839c",
   "metadata": {},
   "outputs": [],
   "source": [
    "import torch"
   ]
  },
  {
   "cell_type": "code",
   "execution_count": 40,
   "id": "09c8fccd",
   "metadata": {},
   "outputs": [
    {
     "name": "stdout",
     "output_type": "stream",
     "text": [
      "tensor([[ 1.1658e+00,  1.2733e+00,  7.0139e-02, -3.4241e-01, -5.9261e-01,\n",
      "         -1.7141e-03, -2.4602e-01,  1.1502e+00,  3.0474e-01],\n",
      "        [ 9.1445e-01, -1.3684e+00,  1.5066e+00,  2.2189e+00, -1.9009e-01,\n",
      "         -1.1624e+00,  1.5585e+00, -3.1793e-01, -3.9599e-01],\n",
      "        [-3.8583e-02,  1.2667e+00,  1.9359e+00, -7.0823e-01,  1.0044e-02,\n",
      "         -2.1927e+00,  1.1615e+00, -7.0695e-01, -2.6525e+00],\n",
      "        [ 1.1294e-01, -1.4783e+00,  3.0429e+00,  1.8937e+00,  1.0254e+00,\n",
      "         -1.2072e-01,  7.7557e-01,  2.0073e+00,  7.6907e-01],\n",
      "        [ 7.8379e-01,  8.5243e-01, -9.5996e-01, -3.0279e-01, -4.7139e-01,\n",
      "         -1.5547e+00, -5.0436e-01, -1.5449e+00,  3.1680e-01],\n",
      "        [-4.9258e-01, -8.5103e-01, -5.5695e-01, -7.3564e-01, -1.3147e+00,\n",
      "         -4.6960e-02,  7.7904e-01,  1.4369e+00,  6.3618e-01],\n",
      "        [-2.1180e+00, -3.6831e-01,  5.6656e-02,  7.7437e-01, -2.2813e-01,\n",
      "         -1.4885e+00,  1.0581e-01,  1.9531e+00, -1.5811e+00],\n",
      "        [-1.5743e+00,  6.1946e-01,  4.5224e-01,  9.7182e-01, -1.5471e+00,\n",
      "          4.9295e-01,  9.2623e-01, -3.1022e-01,  6.8375e-01],\n",
      "        [ 1.6970e-01, -4.1356e-02, -4.3681e-01,  4.4674e-01,  4.6258e-01,\n",
      "         -1.4859e-01,  1.6470e+00, -1.2263e+00, -1.2518e-01],\n",
      "        [-1.1283e-01, -1.2640e+00,  9.2852e-01, -9.5405e-01,  1.3064e+00,\n",
      "          5.9838e-01,  4.5525e-01,  1.7831e-01,  6.3461e-01],\n",
      "        [-8.2470e-01,  2.8985e-01,  3.2037e-01, -3.4246e-01, -4.1480e-01,\n",
      "         -3.5424e-01,  3.1130e-01, -9.3221e-01,  6.8756e-01],\n",
      "        [ 3.9771e-01,  4.1989e-01, -6.4907e-02, -6.1294e-02, -3.0291e-01,\n",
      "         -1.9088e+00,  2.6547e-01, -2.9301e-01,  1.4104e-01],\n",
      "        [-5.2984e-01, -9.9907e-01,  9.1148e-01, -1.2940e+00, -3.5207e-01,\n",
      "         -1.0977e+00, -2.6673e-02, -3.5113e-01,  3.8077e-01],\n",
      "        [ 1.3052e+00,  2.8995e-01, -1.5103e+00, -1.2484e+00,  1.3609e+00,\n",
      "          3.2964e-01,  5.8504e-02,  6.6067e-01,  2.0054e+00],\n",
      "        [-9.3855e-01,  3.4308e-01,  1.3801e-02, -3.6491e-01, -1.4930e+00,\n",
      "         -1.1323e+00, -1.9460e+00,  4.9615e-01,  1.7962e+00],\n",
      "        [ 9.8968e-02,  4.5667e-02,  2.6475e-01,  1.2213e-01,  1.6026e-01,\n",
      "         -1.8987e-02,  1.5739e+00,  1.9097e-01, -2.0673e-02],\n",
      "        [-5.3464e-01,  1.4865e+00,  8.0005e-01,  6.7780e-01,  3.8309e-01,\n",
      "         -5.3361e-01,  4.0307e-01,  1.6643e-01, -5.5193e-02],\n",
      "        [ 9.8747e-01,  3.9341e-01, -7.1086e-01,  2.2860e+00,  6.0513e-01,\n",
      "          4.1338e-01,  4.0303e-01,  9.8243e-01, -1.9105e-01],\n",
      "        [ 3.0960e-01, -2.1062e+00,  7.3315e-02, -2.9800e-01, -5.0261e-01,\n",
      "          1.1967e+00,  7.4478e-01, -1.8399e-01, -1.7225e+00],\n",
      "        [-1.2568e-02, -9.7913e-02,  4.1724e-01,  1.6493e+00,  1.1479e+00,\n",
      "         -8.5453e-01, -5.4417e-01,  7.9798e-01,  4.4147e-01]])\n",
      "tensor([[0.],\n",
      "        [0.],\n",
      "        [0.],\n",
      "        [0.],\n",
      "        [0.],\n",
      "        [0.],\n",
      "        [0.],\n",
      "        [0.],\n",
      "        [0.],\n",
      "        [0.],\n",
      "        [0.],\n",
      "        [0.],\n",
      "        [0.],\n",
      "        [0.],\n",
      "        [0.],\n",
      "        [0.],\n",
      "        [0.],\n",
      "        [0.],\n",
      "        [0.],\n",
      "        [0.]])\n"
     ]
    }
   ],
   "source": [
    "point_1 = torch.tensor([1, 2, 3, 4, 5, 6, 7, 8, 9.])\n",
    "point_2 = torch.tensor([9, 8, 7, 6, 5, 4, 3, 2, 1.])\n",
    "X = torch.randn(20,9)\n",
    "y = torch.zeros(20,1)\n",
    "print(X)\n",
    "print(y)"
   ]
  },
  {
   "cell_type": "code",
   "execution_count": 32,
   "id": "0b8f9455",
   "metadata": {},
   "outputs": [],
   "source": [
    "def distance(point_1, point_2):\n",
    "    return torch.sqrt(torch.sum((point_1 - point_2) ** 2)).item()"
   ]
  },
  {
   "cell_type": "code",
   "execution_count": 33,
   "id": "63889338",
   "metadata": {},
   "outputs": [],
   "source": [
    "class KNN:\n",
    "    def __init__(self, k=3):\n",
    "        self.k = k\n",
    "\n",
    "    def fit(self, X, y):\n",
    "        self.X = X\n",
    "        self.y = y\n",
    "        \n",
    "    def predict(self, x):\n",
    "        return torch.tensor([self.predict_instance(instance_x) for instance_x in x])\n",
    "\n",
    "\n",
    "    def predict(self, x):\n",
    "        distances = torch.tensor([distance(x, x_train) for x_train in self.X])\n",
    "        indices_of_sorted_distances = torch.argsort(distances)[:self.k]\n",
    "        nearest_labels = torch.tensor([self.y[i] for i in indices_of_sorted_distances])\n",
    "        label = torch.mode(nearest_labels)\n",
    "        return label"
   ]
  },
  {
   "cell_type": "code",
   "execution_count": 34,
   "id": "2abd879b",
   "metadata": {},
   "outputs": [
    {
     "name": "stdout",
     "output_type": "stream",
     "text": [
      "0.0\n"
     ]
    }
   ],
   "source": [
    "model = KNN()\n",
    "model.fit(X,y)\n",
    "print(model.predict(point_1)[0].item())"
   ]
  },
  {
   "cell_type": "code",
   "execution_count": 132,
   "id": "228a785d",
   "metadata": {},
   "outputs": [
    {
     "name": "stdout",
     "output_type": "stream",
     "text": [
      "(25,)\n",
      "[[ 1.  2.  3.  5.  4.]\n",
      " [ 5. 85.  8.  9.  7.]\n",
      " [ 5.  6. 45.  6.  2.]\n",
      " [ 2.  1.  3.  5.  6.]\n",
      " [ 4.  8.  9.  7.  5.]]\n"
     ]
    }
   ],
   "source": [
    "import numpy as np\n",
    "List = [1,2,3,5,4,5,85,8,9,7,5,6,45,6,2,2,1,3,5,6,4,8,9.,7,5]\n",
    "arr = np.array(List)\n",
    "print(arr.shape)\n",
    "array = np.reshape(arr,(5,5))\n",
    "print(array)"
   ]
  },
  {
   "cell_type": "code",
   "execution_count": 52,
   "id": "e5785c14",
   "metadata": {},
   "outputs": [],
   "source": [
    "l = [X,y]"
   ]
  },
  {
   "cell_type": "code",
   "execution_count": 53,
   "id": "18d80103",
   "metadata": {},
   "outputs": [],
   "source": [
    "import dill"
   ]
  },
  {
   "cell_type": "code",
   "execution_count": 104,
   "id": "231a72eb",
   "metadata": {},
   "outputs": [
    {
     "name": "stdout",
     "output_type": "stream",
     "text": [
      "[[-0.25560089  0.37947632]\n",
      " [ 0.71765722 -0.01149531]\n",
      " [-1.48422571  0.85279819]\n",
      " [-0.81773459  0.84720116]\n",
      " [ 0.81928946  0.02636669]\n",
      " [ 1.38269029  2.23793313]\n",
      " [ 2.24543706  0.90127988]\n",
      " [ 0.02671528 -1.02053289]\n",
      " [ 0.15554087  1.20159154]\n",
      " [-0.36426332  0.80146541]\n",
      " [-0.20194509 -1.18672821]\n",
      " [-0.19212693  0.8659644 ]\n",
      " [-2.09946652 -1.62636075]\n",
      " [-0.63616018 -0.4961497 ]\n",
      " [ 0.28525014 -0.94017693]\n",
      " [-0.74383962  0.63274202]\n",
      " [-0.30405921  2.52779514]\n",
      " [ 0.36204242  0.38477336]\n",
      " [ 0.32730943 -0.85218395]\n",
      " [ 0.09417535  0.32116671]]\n"
     ]
    }
   ],
   "source": [
    "a = np.random.randn(20,2)\n",
    "print(a)"
   ]
  },
  {
   "cell_type": "code",
   "execution_count": 162,
   "id": "96c5f8b2",
   "metadata": {},
   "outputs": [],
   "source": [
    "import scipy\n",
    "from scipy import stats\n",
    "import math\n",
    "import statistics"
   ]
  },
  {
   "cell_type": "code",
   "execution_count": 135,
   "id": "d080b9d0",
   "metadata": {},
   "outputs": [
    {
     "name": "stdout",
     "output_type": "stream",
     "text": [
      "5.0\n"
     ]
    }
   ],
   "source": [
    "print(float(statistics.mode(arr)))"
   ]
  },
  {
   "cell_type": "code",
   "execution_count": 258,
   "id": "f594564d",
   "metadata": {},
   "outputs": [],
   "source": [
    "a = np.array([1,2,1,4,8,6.])\n",
    "b = np.array([3,5,6,7,8,9.])\n",
    "amount_of_say = .234\n",
    "c = torch.tensor(a)\n",
    "d = torch.tensor(b)"
   ]
  },
  {
   "cell_type": "code",
   "execution_count": 259,
   "id": "951f68c2",
   "metadata": {},
   "outputs": [
    {
     "name": "stdout",
     "output_type": "stream",
     "text": [
      "tensor([1., 2., 1., 4., 8., 6.], dtype=torch.float64)\n",
      "tensor([3., 5., 6., 7., 8., 9.], dtype=torch.float64)\n"
     ]
    }
   ],
   "source": [
    "# for i in range(len(c)):\n",
    "#     print(c[i] * math.pow(math.e, -1 * ))\n",
    "print(c)\n",
    "print(d)\n"
   ]
  },
  {
   "cell_type": "code",
   "execution_count": 260,
   "id": "44ce069e",
   "metadata": {},
   "outputs": [
    {
     "data": {
      "text/plain": [
       "tensor([   8.,   64.,   64.,  512., 2048., 3072.], dtype=torch.float64)"
      ]
     },
     "execution_count": 260,
     "metadata": {},
     "output_type": "execute_result"
    }
   ],
   "source": [
    "2 ** d * c"
   ]
  },
  {
   "cell_type": "code",
   "execution_count": 323,
   "id": "24d9b7e2",
   "metadata": {},
   "outputs": [
    {
     "name": "stdout",
     "output_type": "stream",
     "text": [
      "[1. 2. 4. 6. 8.]\n",
      "[[1. 3.]\n",
      " [1. 6.]\n",
      " [2. 5.]\n",
      " [4. 7.]\n",
      " [6. 9.]\n",
      " [8. 8.]]\n",
      "[]\n",
      "[]\n",
      "[0 2]\n",
      "[0 1 2]\n",
      "[0 1 2 3]\n",
      "[0 1 2 3 5]\n"
     ]
    }
   ],
   "source": [
    "merged_data = (np.vstack((a, b))).transpose()\n",
    "sorted_data = merged_data[merged_data[:, 0].argsort()]\n",
    "classes = np.array(list(sorted(set(a))))\n",
    "print(classes)\n",
    "print(sorted_data)\n",
    "for instance in sorted_data:\n",
    "    print(f\"{np.where(a < instance[0])[0]}\")"
   ]
  },
  {
   "cell_type": "code",
   "execution_count": 347,
   "id": "1d6737b0",
   "metadata": {},
   "outputs": [
    {
     "data": {
      "text/plain": [
       "array([[1.],\n",
       "       [2.],\n",
       "       [1.],\n",
       "       [4.],\n",
       "       [8.],\n",
       "       [6.]])"
      ]
     },
     "execution_count": 347,
     "metadata": {},
     "output_type": "execute_result"
    }
   ],
   "source": [
    "a.reshape((len(a),1))"
   ]
  },
  {
   "cell_type": "code",
   "execution_count": null,
   "id": "db8d0eb9",
   "metadata": {},
   "outputs": [],
   "source": []
  }
 ],
 "metadata": {
  "kernelspec": {
   "display_name": "Python 3 (ipykernel)",
   "language": "python",
   "name": "python3"
  },
  "language_info": {
   "codemirror_mode": {
    "name": "ipython",
    "version": 3
   },
   "file_extension": ".py",
   "mimetype": "text/x-python",
   "name": "python",
   "nbconvert_exporter": "python",
   "pygments_lexer": "ipython3",
   "version": "3.9.7"
  }
 },
 "nbformat": 4,
 "nbformat_minor": 5
}
