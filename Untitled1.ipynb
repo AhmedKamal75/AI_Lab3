{
 "cells": [
  {
   "cell_type": "code",
   "execution_count": 2,
   "id": "5ca366e4",
   "metadata": {},
   "outputs": [],
   "source": [
    "training_data = [\n",
    "    ['Green', 3, 'Apple'],\n",
    "    ['Yellow', 3, 'Apple'],\n",
    "    ['Red', 1, 'Grape'],\n",
    "    ['Red', 1, 'Grape'],\n",
    "    ['Yellow', 3, 'Lemon'],\n",
    "]"
   ]
  },
  {
   "cell_type": "code",
   "execution_count": 3,
   "id": "45d268db",
   "metadata": {},
   "outputs": [],
   "source": [
    "header = [\"color\", \"diameter\", \"label\"]"
   ]
  },
  {
   "cell_type": "code",
   "execution_count": 4,
   "id": "e0e7b35c",
   "metadata": {},
   "outputs": [],
   "source": [
    "def unique_vals(rows, col):\n",
    "    \"\"\"Find the unique values for a column in a dataset.\"\"\"\n",
    "    return set([row[col] for row in rows])"
   ]
  },
  {
   "cell_type": "code",
   "execution_count": 6,
   "id": "231df125",
   "metadata": {},
   "outputs": [
    {
     "data": {
      "text/plain": [
       "{'Green', 'Red', 'Yellow'}"
      ]
     },
     "execution_count": 6,
     "metadata": {},
     "output_type": "execute_result"
    }
   ],
   "source": [
    "unique_vals(training_data, 0)"
   ]
  },
  {
   "cell_type": "code",
   "execution_count": 40,
   "id": "2c4b8943",
   "metadata": {},
   "outputs": [],
   "source": [
    "def class_counts(rows):\n",
    "    \"\"\"Counts the number of each type of example in a dataset.\"\"\"\n",
    "    counts = {}  # a dictionary of label -> count.\n",
    "    for row in rows:\n",
    "        # in our dataset format, the label is always the last column\n",
    "        label = row[-1]\n",
    "        if label not in counts:\n",
    "            counts[label] = 0\n",
    "        counts[label] += 1\n",
    "    return counts"
   ]
  },
  {
   "cell_type": "code",
   "execution_count": 41,
   "id": "e12cb966",
   "metadata": {},
   "outputs": [
    {
     "data": {
      "text/plain": [
       "{'Apple': 2, 'Grape': 2, 'Lemon': 1}"
      ]
     },
     "execution_count": 41,
     "metadata": {},
     "output_type": "execute_result"
    }
   ],
   "source": [
    "class_counts(training_data)"
   ]
  },
  {
   "cell_type": "code",
   "execution_count": 9,
   "id": "085c304b",
   "metadata": {},
   "outputs": [],
   "source": [
    "def is_numeric(value):\n",
    "    \"\"\"Test if a value is numeric.\"\"\"\n",
    "    return isinstance(value, int) or isinstance(value, float)"
   ]
  },
  {
   "cell_type": "code",
   "execution_count": 13,
   "id": "de9fd9f7",
   "metadata": {},
   "outputs": [
    {
     "data": {
      "text/plain": [
       "True"
      ]
     },
     "execution_count": 13,
     "metadata": {},
     "output_type": "execute_result"
    }
   ],
   "source": [
    "is_numeric(7)"
   ]
  },
  {
   "cell_type": "code",
   "execution_count": 14,
   "id": "d8bd9fc3",
   "metadata": {},
   "outputs": [],
   "source": [
    "class Question:\n",
    "    \"\"\"A Question is used to partition a dataset.\n",
    "\n",
    "    This class just records a 'column number' (e.g., 0 for Color) and a\n",
    "    'column value' (e.g., Green). The 'match' method is used to compare\n",
    "    the feature value in an example to the feature value stored in the\n",
    "    question. See the demo below.\n",
    "    \"\"\"\n",
    "\n",
    "    def __init__(self, column, value):\n",
    "        self.column = column\n",
    "        self.value = value\n",
    "\n",
    "    def match(self, example):\n",
    "        # Compare the feature value in an example to the\n",
    "        # feature value in this question.\n",
    "        val = example[self.column]\n",
    "        if is_numeric(val):\n",
    "            return val >= self.value\n",
    "        else:\n",
    "            return val == self.value\n",
    "\n",
    "    def __repr__(self):\n",
    "        # This is just a helper method to print\n",
    "        # the question in a readable format.\n",
    "        condition = \"==\"\n",
    "        if is_numeric(self.value):\n",
    "            condition = \">=\"\n",
    "        return \"Is %s %s %s?\" % (\n",
    "            header[self.column], condition, str(self.value))"
   ]
  },
  {
   "cell_type": "code",
   "execution_count": 15,
   "id": "78730e70",
   "metadata": {},
   "outputs": [
    {
     "data": {
      "text/plain": [
       "Is diameter >= 3?"
      ]
     },
     "execution_count": 15,
     "metadata": {},
     "output_type": "execute_result"
    }
   ],
   "source": [
    "Question(1, 3)"
   ]
  },
  {
   "cell_type": "code",
   "execution_count": 16,
   "id": "4f0182f0",
   "metadata": {},
   "outputs": [
    {
     "data": {
      "text/plain": [
       "Is color == Green?"
      ]
     },
     "execution_count": 16,
     "metadata": {},
     "output_type": "execute_result"
    }
   ],
   "source": [
    "q = Question(0, 'Green')\n",
    "q"
   ]
  },
  {
   "cell_type": "code",
   "execution_count": 17,
   "id": "165d199a",
   "metadata": {},
   "outputs": [
    {
     "data": {
      "text/plain": [
       "True"
      ]
     },
     "execution_count": 17,
     "metadata": {},
     "output_type": "execute_result"
    }
   ],
   "source": [
    "example = training_data[0]\n",
    "q.match(example)"
   ]
  },
  {
   "cell_type": "code",
   "execution_count": 18,
   "id": "878fca2b",
   "metadata": {},
   "outputs": [],
   "source": [
    "def partition(rows, question):\n",
    "    \"\"\"Partitions a dataset.\n",
    "\n",
    "    For each row in the dataset, check if it matches the question. If\n",
    "    so, add it to 'true rows', otherwise, add it to 'false rows'.\n",
    "    \"\"\"\n",
    "    true_rows, false_rows = [], []\n",
    "    for row in rows:\n",
    "        if question.match(row):\n",
    "            true_rows.append(row)\n",
    "        else:\n",
    "            false_rows.append(row)\n",
    "    return true_rows, false_rows"
   ]
  },
  {
   "cell_type": "code",
   "execution_count": 19,
   "id": "a48f4790",
   "metadata": {},
   "outputs": [
    {
     "data": {
      "text/plain": [
       "[['Red', 1, 'Grape'], ['Red', 1, 'Grape']]"
      ]
     },
     "execution_count": 19,
     "metadata": {},
     "output_type": "execute_result"
    }
   ],
   "source": [
    "true_rows, false_rows = partition(training_data, Question(0, 'Red'))\n",
    "true_rows"
   ]
  },
  {
   "cell_type": "code",
   "execution_count": 20,
   "id": "e422e776",
   "metadata": {},
   "outputs": [
    {
     "data": {
      "text/plain": [
       "[['Green', 3, 'Apple'], ['Yellow', 3, 'Apple'], ['Yellow', 3, 'Lemon']]"
      ]
     },
     "execution_count": 20,
     "metadata": {},
     "output_type": "execute_result"
    }
   ],
   "source": [
    "false_rows"
   ]
  },
  {
   "cell_type": "code",
   "execution_count": 21,
   "id": "ce7bfecf",
   "metadata": {},
   "outputs": [],
   "source": [
    "def gini(rows):\n",
    "    \"\"\"Calculate the Gini Impurity for a list of rows.\n",
    "\n",
    "    There are a few different ways to do this, I thought this one was\n",
    "    the most concise. See:\n",
    "    https://en.wikipedia.org/wiki/Decision_tree_learning#Gini_impurity\n",
    "    \"\"\"\n",
    "    counts = class_counts(rows)\n",
    "    impurity = 1\n",
    "    for lbl in counts:\n",
    "        prob_of_lbl = counts[lbl] / float(len(rows))\n",
    "        impurity -= prob_of_lbl**2\n",
    "    return impurity"
   ]
  },
  {
   "cell_type": "code",
   "execution_count": 22,
   "id": "518b8244",
   "metadata": {},
   "outputs": [
    {
     "data": {
      "text/plain": [
       "0.0"
      ]
     },
     "execution_count": 22,
     "metadata": {},
     "output_type": "execute_result"
    }
   ],
   "source": [
    "#######\n",
    "# Demo:\n",
    "# Let's look at some example to understand how Gini Impurity works.\n",
    "#\n",
    "# First, we'll look at a dataset with no mixing.\n",
    "no_mixing = [['Apple'],\n",
    "              ['Apple']]\n",
    "# this will return 0\n",
    "gini(no_mixing)"
   ]
  },
  {
   "cell_type": "code",
   "execution_count": 23,
   "id": "2a771546",
   "metadata": {},
   "outputs": [
    {
     "data": {
      "text/plain": [
       "0.5"
      ]
     },
     "execution_count": 23,
     "metadata": {},
     "output_type": "execute_result"
    }
   ],
   "source": [
    "# Now, we'll look at dataset with a 50:50 apples:oranges ratio\n",
    "some_mixing = [['Apple'],\n",
    "               ['Orange']]\n",
    "# this will return 0.5 - meaning, there's a 50% chance of misclassifying\n",
    "# a random example we draw from the dataset.\n",
    "gini(some_mixing)"
   ]
  },
  {
   "cell_type": "code",
   "execution_count": 24,
   "id": "c48b509e",
   "metadata": {},
   "outputs": [
    {
     "data": {
      "text/plain": [
       "0.7999999999999998"
      ]
     },
     "execution_count": 24,
     "metadata": {},
     "output_type": "execute_result"
    }
   ],
   "source": [
    "lots_of_mixing = [['Apple'],\n",
    "                  ['Orange'],\n",
    "                  ['Grape'],\n",
    "                  ['Grapefruit'],\n",
    "                  ['Blueberry']]\n",
    "# This will return 0.8\n",
    "gini(lots_of_mixing)"
   ]
  },
  {
   "cell_type": "code",
   "execution_count": 25,
   "id": "c3dac068",
   "metadata": {},
   "outputs": [],
   "source": [
    "def info_gain(left, right, current_uncertainty):\n",
    "    \"\"\"Information Gain.\n",
    "\n",
    "    The uncertainty of the starting node, minus the weighted impurity of\n",
    "    two child nodes.\n",
    "    \"\"\"\n",
    "    p = float(len(left)) / (len(left) + len(right))\n",
    "    return current_uncertainty - p * gini(left) - (1 - p) * gini(right)"
   ]
  },
  {
   "cell_type": "code",
   "execution_count": 26,
   "id": "7f5462b8",
   "metadata": {},
   "outputs": [
    {
     "data": {
      "text/plain": [
       "0.6399999999999999"
      ]
     },
     "execution_count": 26,
     "metadata": {},
     "output_type": "execute_result"
    }
   ],
   "source": [
    "current_uncertainty = gini(training_data)\n",
    "current_uncertainty"
   ]
  },
  {
   "cell_type": "code",
   "execution_count": 27,
   "id": "7a7bc1d5",
   "metadata": {},
   "outputs": [
    {
     "data": {
      "text/plain": [
       "0.1399999999999999"
      ]
     },
     "execution_count": 27,
     "metadata": {},
     "output_type": "execute_result"
    }
   ],
   "source": [
    "true_rows, false_rows = partition(training_data, Question(0, 'Green'))\n",
    "info_gain(true_rows, false_rows, current_uncertainty)"
   ]
  },
  {
   "cell_type": "code",
   "execution_count": 28,
   "id": "4a527406",
   "metadata": {},
   "outputs": [
    {
     "data": {
      "text/plain": [
       "0.37333333333333324"
      ]
     },
     "execution_count": 28,
     "metadata": {},
     "output_type": "execute_result"
    }
   ],
   "source": [
    "true_rows, false_rows = partition(training_data, Question(0,'Red'))\n",
    "info_gain(true_rows, false_rows, current_uncertainty)"
   ]
  },
  {
   "cell_type": "code",
   "execution_count": 29,
   "id": "1b5aa604",
   "metadata": {},
   "outputs": [
    {
     "data": {
      "text/plain": [
       "[['Red', 1, 'Grape'], ['Red', 1, 'Grape']]"
      ]
     },
     "execution_count": 29,
     "metadata": {},
     "output_type": "execute_result"
    }
   ],
   "source": [
    "true_rows, false_rows = partition(training_data, Question(0,'Red'))\n",
    "\n",
    "# Here, the true_rows contain only 'Grapes'.\n",
    "true_rows"
   ]
  },
  {
   "cell_type": "code",
   "execution_count": 30,
   "id": "7a7611c2",
   "metadata": {},
   "outputs": [
    {
     "data": {
      "text/plain": [
       "[['Green', 3, 'Apple']]"
      ]
     },
     "execution_count": 30,
     "metadata": {},
     "output_type": "execute_result"
    }
   ],
   "source": [
    "true_rows, false_rows = partition(training_data, Question(0,'Green'))\n",
    "\n",
    "# We've isolated one apple in the true rows.\n",
    "true_rows"
   ]
  },
  {
   "cell_type": "code",
   "execution_count": 37,
   "id": "4803a67d",
   "metadata": {},
   "outputs": [],
   "source": [
    "def weighted_impurity(true_correct, true_wrong, false_correct, false_wrong):\n",
    "    gini_true_leaf = 1 - (true_correct / (true_wrong + true_correct)) ** 2 - (\n",
    "            true_wrong / (true_wrong + true_correct)) ** 2\n",
    "    print(gini_true_leaf)\n",
    "    gini_false_leaf = 1 - (false_correct / (false_wrong + false_correct)) ** 2 - (\n",
    "            false_wrong / (false_wrong + false_correct)) ** 2\n",
    "    print(gini_false_leaf)\n",
    "    true_weight = (true_correct + true_wrong) / (true_correct + true_wrong + false_correct + false_wrong)\n",
    "    false_weight = (false_correct + false_wrong) / (true_correct + true_wrong + false_correct + false_wrong)\n",
    "\n",
    "    return gini_true_leaf * true_weight + gini_false_leaf * false_weight"
   ]
  },
  {
   "cell_type": "code",
   "execution_count": 38,
   "id": "1560b1bc",
   "metadata": {},
   "outputs": [
    {
     "name": "stdout",
     "output_type": "stream",
     "text": [
      "0.3949652777777779\n",
      "0.33622087733871275\n",
      "0.36413900824044665\n"
     ]
    }
   ],
   "source": [
    "print(weighted_impurity(105,39,34,125))"
   ]
  },
  {
   "cell_type": "code",
   "execution_count": 39,
   "id": "7d834843",
   "metadata": {},
   "outputs": [
    {
     "data": {
      "text/plain": [
       "True"
      ]
     },
     "execution_count": 39,
     "metadata": {},
     "output_type": "execute_result"
    }
   ],
   "source": [
    "isinstance(,float)"
   ]
  },
  {
   "cell_type": "code",
   "execution_count": 43,
   "id": "66bbec0f",
   "metadata": {},
   "outputs": [],
   "source": [
    "import torch"
   ]
  },
  {
   "cell_type": "code",
   "execution_count": 75,
   "id": "e35fb7e5",
   "metadata": {},
   "outputs": [
    {
     "name": "stdout",
     "output_type": "stream",
     "text": [
      "tensor([[ 4.1029e-01, -2.1069e+00, -2.0088e+00,  6.6934e-01,  6.9546e-02,\n",
      "         -6.0035e-01, -4.2599e-02, -4.0724e-03,  4.3782e-01],\n",
      "        [-1.2652e-01, -1.2810e+00, -6.8833e-04, -1.4545e+00,  1.8622e+00,\n",
      "          3.6458e-01,  2.1209e+00,  7.3005e-01, -1.1095e+00],\n",
      "        [-2.6004e-01,  1.3630e+00, -1.6320e-01, -2.5862e-01,  1.8802e-01,\n",
      "          8.3585e-02, -1.9021e+00, -1.0976e+00, -7.1322e-01],\n",
      "        [-6.0933e-01, -1.2271e+00, -4.8166e-01,  1.7951e+00,  9.9223e-01,\n",
      "          5.8781e-01,  1.1801e+00,  2.8600e-01,  8.9627e-01],\n",
      "        [ 2.3101e-01,  1.8796e+00,  8.8063e-01, -7.6579e-01,  7.3045e-01,\n",
      "          1.1420e+00, -1.3929e+00, -8.5052e-01,  3.8418e-01],\n",
      "        [ 2.1375e+00, -5.3560e-01,  1.1991e+00,  3.2521e-01,  2.7689e-01,\n",
      "         -7.1683e-01,  3.1402e-01,  2.3973e+00,  8.7658e-01],\n",
      "        [-7.9712e-02, -1.5602e+00, -7.8432e-01, -1.7270e+00, -4.3158e-01,\n",
      "          1.0384e+00,  4.6221e-01, -1.4367e+00, -6.3857e-02],\n",
      "        [ 1.1812e+00, -1.9771e-01,  7.5919e-01,  1.9746e+00, -1.6633e+00,\n",
      "          7.1933e-01, -2.1989e+00,  1.3950e+00, -5.5061e-01],\n",
      "        [ 1.1036e+00,  4.7757e-01,  1.8157e+00, -1.8704e+00,  9.6728e-01,\n",
      "          4.9895e-01,  1.0532e+00, -4.0827e-01, -7.7990e-01],\n",
      "        [-1.7118e+00, -2.0806e-01, -2.0222e-01,  1.1564e+00, -2.4065e+00,\n",
      "          1.1884e+00,  1.3899e-01,  7.6263e-01,  4.9565e-01],\n",
      "        [-4.8839e-01, -7.2383e-01,  3.4521e-01,  9.8120e-01, -2.4911e-01,\n",
      "          2.7119e-03,  1.8637e+00,  8.1219e-01,  1.6084e-01],\n",
      "        [ 5.8946e-03,  8.0228e-01, -9.6613e-01,  5.6194e-01, -1.3352e+00,\n",
      "         -2.8651e-01, -1.4624e-01,  4.5057e-02,  8.9994e-02],\n",
      "        [-1.5509e+00, -5.8853e-01,  1.5027e+00, -4.0952e-01,  1.0648e+00,\n",
      "          2.1295e-01, -4.1736e-01, -1.9618e-01,  1.2002e+00],\n",
      "        [ 4.6030e-01, -1.7229e+00, -8.8850e-01,  1.5096e-01,  2.0387e+00,\n",
      "         -1.9363e+00,  1.3400e+00,  1.7169e+00, -7.1050e-01],\n",
      "        [-2.0099e-01, -1.8022e+00,  1.9400e+00,  9.0681e-02, -2.2757e-01,\n",
      "         -1.7081e+00, -1.1088e+00,  8.4551e-02, -6.1529e-01],\n",
      "        [ 1.7998e-01,  2.2046e-01, -6.6223e-01, -1.4049e+00,  9.7647e-01,\n",
      "          4.0823e-01,  9.4785e-01, -2.9877e-01,  1.1925e+00],\n",
      "        [ 8.5304e-01,  4.2299e-01, -2.9545e-01, -4.6024e-01, -3.2988e-01,\n",
      "         -2.7881e-01,  1.0056e+00,  7.0817e-01,  1.6316e+00],\n",
      "        [-3.0903e-01, -2.5391e-01,  6.6906e-02, -1.5662e+00, -4.6938e-01,\n",
      "         -6.7038e-01,  2.2327e+00,  8.7998e-01,  1.4905e+00],\n",
      "        [-1.1817e-02, -1.8496e+00, -1.2920e+00, -2.3047e-01, -1.6444e-01,\n",
      "          9.0735e-03,  1.0587e-01, -2.6960e-01,  8.8061e-01],\n",
      "        [-1.5489e-01, -8.0238e-02,  3.9945e-01,  7.3283e-01, -1.8393e-01,\n",
      "         -8.6059e-01, -3.6110e-01, -1.3620e-01, -5.0595e-01]])\n",
      "tensor([[0.],\n",
      "        [0.],\n",
      "        [0.],\n",
      "        [0.],\n",
      "        [0.],\n",
      "        [0.],\n",
      "        [0.],\n",
      "        [0.],\n",
      "        [0.],\n",
      "        [0.],\n",
      "        [0.],\n",
      "        [0.],\n",
      "        [0.],\n",
      "        [0.],\n",
      "        [0.],\n",
      "        [0.],\n",
      "        [0.],\n",
      "        [0.],\n",
      "        [0.],\n",
      "        [0.]])\n"
     ]
    }
   ],
   "source": [
    "point_1 = torch.tensor([1, 2, 3, 4, 5, 6, 7, 8, 9.])\n",
    "point_2 = torch.tensor([9, 8, 7, 6, 5, 4, 3, 2, 1.])\n",
    "X = torch.randn(20,9)\n",
    "y = torch.zeros(20,1)\n",
    "print(X)\n",
    "print(y)"
   ]
  },
  {
   "cell_type": "code",
   "execution_count": 101,
   "id": "6ef7b14d",
   "metadata": {},
   "outputs": [],
   "source": [
    "def distance(point_1, point_2):\n",
    "    return torch.sqrt(torch.sum((point_1 - point_2) ** 2)).item()"
   ]
  },
  {
   "cell_type": "code",
   "execution_count": 102,
   "id": "fc27df35",
   "metadata": {},
   "outputs": [],
   "source": [
    "class KNN:\n",
    "    def __init__(self, k=3):\n",
    "        self.k = k\n",
    "\n",
    "    def fit(self, X, y):\n",
    "        self.X = X\n",
    "        self.y = y\n",
    "        \n",
    "    def predict(self, x):\n",
    "        return torch.tensor([self.predict_instance(instance_x) for instance_x in x])\n",
    "\n",
    "\n",
    "    def predict(self, x):\n",
    "        distances = torch.tensor([distance(x, x_train) for x_train in self.X])\n",
    "        indices_of_sorted_distances = torch.argsort(distances)[:self.k]\n",
    "        nearest_labels = torch.tensor([self.y[i] for i in indices_of_sorted_distances])\n",
    "        label = torch.mode(nearest_labels)\n",
    "        return label"
   ]
  },
  {
   "cell_type": "code",
   "execution_count": 107,
   "id": "3d9c5171",
   "metadata": {},
   "outputs": [
    {
     "name": "stdout",
     "output_type": "stream",
     "text": [
      "0.0\n"
     ]
    }
   ],
   "source": [
    "model = KNN()\n",
    "model.fit(X,y)\n",
    "print(model.predict(point_1)[0].item())"
   ]
  },
  {
   "cell_type": "code",
   "execution_count": null,
   "id": "ac5ce0ff",
   "metadata": {},
   "outputs": [],
   "source": []
  }
 ],
 "metadata": {
  "kernelspec": {
   "display_name": "Python 3 (ipykernel)",
   "language": "python",
   "name": "python3"
  },
  "language_info": {
   "codemirror_mode": {
    "name": "ipython",
    "version": 3
   },
   "file_extension": ".py",
   "mimetype": "text/x-python",
   "name": "python",
   "nbconvert_exporter": "python",
   "pygments_lexer": "ipython3",
   "version": "3.9.7"
  }
 },
 "nbformat": 4,
 "nbformat_minor": 5
}
