{
 "cells": [
  {
   "cell_type": "code",
   "execution_count": 26,
   "id": "370a0b07",
   "metadata": {},
   "outputs": [],
   "source": [
    "import math\n",
    "from scipy.stats import norm\n",
    "from sklearn.naive_bayes import GaussianNB\n",
    "from sklearn.metrics import f1_score, recall_score, accuracy_score, precision_score, confusion_matrix\n",
    "import torch\n",
    "import pandas as pd\n",
    "import numpy as np\n",
    "from sklearn.model_selection import train_test_split\n"
   ]
  },
  {
   "cell_type": "code",
   "execution_count": 27,
   "id": "7eda3755",
   "metadata": {},
   "outputs": [],
   "source": [
    "dataset = pd.read_csv(\"data/magic04.data\")"
   ]
  },
  {
   "cell_type": "code",
   "execution_count": 28,
   "id": "76e4ea81",
   "metadata": {},
   "outputs": [],
   "source": [
    "def ready_data(dataset):\n",
    "    inputs = np.array(dataset.values[:, 0:-1], dtype=np.float32)\n",
    "    temp_target = dataset.values[:, -1]\n",
    "    for i, j in enumerate(temp_target):\n",
    "        if j == 'h':\n",
    "            temp_target[i] = 0.0\n",
    "        else:\n",
    "            temp_target[i] = 1.0\n",
    "    targets = np.array(temp_target, dtype=np.float16)\n",
    "    targets = targets.reshape((targets.shape[0], 1))\n",
    "    # under sampling\n",
    "    # rus = RandomUnderSampler(random_state=0, replacement=True)\n",
    "    # X_res, y_res = rus.fit_resample(inputs, targets)\n",
    "\n",
    "    # splitting\n",
    "    # random_state=0 means that every time we have the same set of selected\n",
    "    # return train_test_split(X_res, y_res, test_size=0.3, random_state=0)\n",
    "    return inputs, targets\n",
    "\n"
   ]
  },
  {
   "cell_type": "code",
   "execution_count": 29,
   "id": "a538aeb5",
   "metadata": {},
   "outputs": [],
   "source": [
    "\n",
    "\n",
    "def main(dataset, method=\"NB\"):\n",
    "    global result\n",
    "    inputs, targets = ready_data(dataset)\n",
    "    if method == \"NB\":\n",
    "        # no need to resample any thing\n",
    "        X_train, X_test, y_train, y_test = train_test_split(inputs, targets, test_size=0.3, random_state=0)\n",
    "        result = naive_bayes_gaussian(X_train, y_train, X_test, y_test)\n",
    "    elif method == \"DT\":\n",
    "        pass\n",
    "    elif method == \"RF\":\n",
    "        pass\n",
    "    elif method == \"AB\":\n",
    "        pass\n",
    "    elif method == \"KNN\":\n",
    "        pass\n",
    "\n",
    "    for title in result:\n",
    "        print(f\"{title} --> {result.get(title)}\")\n"
   ]
  },
  {
   "cell_type": "code",
   "execution_count": 30,
   "id": "7a5b6f88",
   "metadata": {},
   "outputs": [],
   "source": [
    "class NaiveBayesGaussian:\n",
    "    def __init__(self):\n",
    "        self.ones_num = 0\n",
    "        self.zero_num = 0\n",
    "        self.ones_mean = None\n",
    "        self.zero_mean = None\n",
    "        self.ones_std = None\n",
    "        self.zero_std = None\n",
    "\n",
    "    def fit(self, X, y):\n",
    "        X = torch.tensor(X)\n",
    "        y = torch.tensor(y)\n",
    "        self.ones_num = torch.count_nonzero(y).item()\n",
    "        self.zero_num = y.size()[0] - self.ones_num\n",
    "        X_0 = torch.zeros((self.zero_num, X.shape[1]))\n",
    "        X_1 = torch.zeros((self.ones_num, X.shape[1]))\n",
    "\n",
    "        i = 0\n",
    "        j = 0\n",
    "        for col, cls in enumerate(y):\n",
    "            if cls == 1:\n",
    "                X_1[i, :] = X[col, :]\n",
    "                i += 1\n",
    "            else:\n",
    "                X_0[j, :] = X[col, :]\n",
    "                j += 1\n",
    "\n",
    "        self.zero_mean = torch.mean(X_0, dim=0)\n",
    "        self.ones_mean = torch.mean(X_1, dim=0)\n",
    "        self.zero_std = torch.std(X_0, dim=0)\n",
    "        self.ones_std = torch.std(X_1, dim=0)\n",
    "\n",
    "    def predict(self, X):\n",
    "        predictions = torch.ones((X.shape[0], 1))\n",
    "        for i, instance in enumerate(X):\n",
    "            if self.predict_instance(instance) == 0:\n",
    "                predictions[i, 0] = 0\n",
    "        return predictions.numpy()\n",
    "\n",
    "    def predict_instance(self, x):\n",
    "        score_0 = math.log(self.zero_num / (self.zero_num + self.ones_num))\n",
    "\n",
    "        for (point, mean, std) in zip(x, self.zero_mean, self.zero_std):\n",
    "            score_0 += norm.logpdf(point, loc=mean, scale=std)\n",
    "\n",
    "        score_1 = math.log(self.ones_num / (self.zero_num + self.ones_num))\n",
    "        for (point, mean, std) in zip(x, self.ones_mean, self.ones_std):\n",
    "            score_1 += norm.logpdf(point, loc=mean, scale=std)\n",
    "\n",
    "        if score_1 > score_0:\n",
    "            return 1.0\n",
    "        else:\n",
    "            return 0.0\n"
   ]
  },
  {
   "cell_type": "code",
   "execution_count": 31,
   "id": "b4eece95",
   "metadata": {},
   "outputs": [],
   "source": [
    "def get_result(true, predictions):\n",
    "    (tn, fp), (fn, tp) = confusion_matrix(true, predictions)\n",
    "    result = {\n",
    "        \"f\": f1_score(true, predictions, pos_label=1.0),\n",
    "        \"recall\": recall_score(true, predictions, pos_label=1.0),\n",
    "        \"accuracy\": accuracy_score(true, predictions),\n",
    "        \"precision\": precision_score(true, predictions, pos_label=1.0),\n",
    "        \"tn\": tn,\n",
    "        \"fp\": fp,\n",
    "        \"fn\": fn,\n",
    "        \"tp\": tp\n",
    "    }\n",
    "    return result\n"
   ]
  },
  {
   "cell_type": "code",
   "execution_count": 32,
   "id": "f8727412",
   "metadata": {},
   "outputs": [],
   "source": [
    "def naive_bayes_gaussian(X, y, X_test, y_test):\n",
    "    model = NaiveBayesGaussian()\n",
    "    model.fit(X, y)\n",
    "\n",
    "    predictions = model.predict(X_test)\n",
    "    return get_result(y_test, predictions)\n"
   ]
  },
  {
   "cell_type": "code",
   "execution_count": 33,
   "id": "bab693a2",
   "metadata": {},
   "outputs": [
    {
     "name": "stdout",
     "output_type": "stream",
     "text": [
      "(5706, 1)\n",
      "(5706, 1)\n",
      "[[1.]\n",
      " [1.]\n",
      " [1.]\n",
      " ...\n",
      " [1.]\n",
      " [1.]\n",
      " [1.]]\n",
      "[[1.]\n",
      " [1.]\n",
      " [1.]\n",
      " ...\n",
      " [1.]\n",
      " [1.]\n",
      " [1.]]\n",
      "<class 'numpy.ndarray'>\n",
      "<class 'numpy.ndarray'>\n"
     ]
    },
    {
     "ename": "TypeError",
     "evalue": "'NoneType' object is not iterable",
     "output_type": "error",
     "traceback": [
      "\u001b[1;31m---------------------------------------------------------------------------\u001b[0m",
      "\u001b[1;31mTypeError\u001b[0m                                 Traceback (most recent call last)",
      "\u001b[1;32m~\\AppData\\Local\\Temp/ipykernel_7032/3747937373.py\u001b[0m in \u001b[0;36m<module>\u001b[1;34m\u001b[0m\n\u001b[1;32m----> 1\u001b[1;33m \u001b[0mmain\u001b[0m\u001b[1;33m(\u001b[0m\u001b[0mdataset\u001b[0m\u001b[1;33m,\u001b[0m \u001b[1;34m\"NB\"\u001b[0m\u001b[1;33m)\u001b[0m\u001b[1;33m\u001b[0m\u001b[1;33m\u001b[0m\u001b[0m\n\u001b[0m",
      "\u001b[1;32m~\\AppData\\Local\\Temp/ipykernel_7032/911767384.py\u001b[0m in \u001b[0;36mmain\u001b[1;34m(dataset, method)\u001b[0m\n\u001b[0;32m     15\u001b[0m         \u001b[1;32mpass\u001b[0m\u001b[1;33m\u001b[0m\u001b[1;33m\u001b[0m\u001b[0m\n\u001b[0;32m     16\u001b[0m \u001b[1;33m\u001b[0m\u001b[0m\n\u001b[1;32m---> 17\u001b[1;33m     \u001b[1;32mfor\u001b[0m \u001b[0mtitle\u001b[0m \u001b[1;32min\u001b[0m \u001b[0mresult\u001b[0m\u001b[1;33m:\u001b[0m\u001b[1;33m\u001b[0m\u001b[1;33m\u001b[0m\u001b[0m\n\u001b[0m\u001b[0;32m     18\u001b[0m         \u001b[0mprint\u001b[0m\u001b[1;33m(\u001b[0m\u001b[1;34mf\"{title} --> {result.get(title)}\"\u001b[0m\u001b[1;33m)\u001b[0m\u001b[1;33m\u001b[0m\u001b[1;33m\u001b[0m\u001b[0m\n",
      "\u001b[1;31mTypeError\u001b[0m: 'NoneType' object is not iterable"
     ]
    }
   ],
   "source": [
    "main(dataset, \"NB\")"
   ]
  },
  {
   "cell_type": "code",
   "execution_count": null,
   "id": "39c13da9",
   "metadata": {},
   "outputs": [],
   "source": []
  }
 ],
 "metadata": {
  "kernelspec": {
   "display_name": "Python 3 (ipykernel)",
   "language": "python",
   "name": "python3"
  },
  "language_info": {
   "codemirror_mode": {
    "name": "ipython",
    "version": 3
   },
   "file_extension": ".py",
   "mimetype": "text/x-python",
   "name": "python",
   "nbconvert_exporter": "python",
   "pygments_lexer": "ipython3",
   "version": "3.9.7"
  }
 },
 "nbformat": 4,
 "nbformat_minor": 5
}
